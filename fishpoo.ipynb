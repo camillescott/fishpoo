{
 "metadata": {
  "name": "",
  "signature": "sha256:c2670687069aaa2453490505e1e3499a193de47ff5ddd9068424a37ae7c1bced"
 },
 "nbformat": 3,
 "nbformat_minor": 0,
 "worksheets": [
  {
   "cells": [
    {
     "cell_type": "code",
     "collapsed": false,
     "input": [
      "from os import chdir, mkdir\n",
      "from os.path import join\n",
      "#the following are only available in the current development branch of IPython\n",
      "from IPython.display import FileLinks, FileLink\n",
      "\n",
      "mapping_file = \"fishpoo_map.tsv\"\n",
      "\n",
      "# concatinated, de-multiplexed reads\n",
      "demuldata = 'demul/qiime_ready/fishpoo.fasta'\n",
      "\n",
      "# output directory\n",
      "outdir = 'fishpoo_open97'\n",
      "\n",
      "otu_base = \"/home/russell/gg_13_8_otus/\"\n",
      "reference_seqs_99 = join(otu_base,\"rep_set/99_otus.fasta\")\n",
      "reference_tree_99 = join(otu_base,\"trees/99_otus.tree\")\n",
      "reference_tax_99 = join(otu_base,\"taxonomy/99_otu_taxonomy.txt\")\n",
      "reference_seqs_97 = join(otu_base,\"rep_set/97_otus.fasta\")\n",
      "reference_tree_97 = join(otu_base,\"trees/97_otus.tree\")\n",
      "reference_tax_97 = join(otu_base,\"taxonomy/97_otu_taxonomy.txt\")\n",
      "pynast_ref_alignment = \"/home/russell/qiime/lib/python2.7/site-packages/qiime_test_data/identify_chimeric_seqs/ref_seq_set_aligned.fasta\"\n"
     ],
     "language": "python",
     "metadata": {},
     "outputs": [],
     "prompt_number": 15
    },
    {
     "cell_type": "code",
     "collapsed": false,
     "input": [
      "# This demultiplexing tool comes from Guillaume Jospin's scripts, which\n",
      "# are available here :\n",
      "#    https://github.com/gjospin/scripts\n",
      "#\n",
      "# This script requires Trimmomatic and flash. The flash binary can be\n",
      "# installed anywhere, as long as it is in $PATH.\n",
      "#\n",
      "#    http://ccb.jhu.edu/software/FLASH/\n",
      "#\n",
      "# The path to the Trimmomatic jar file has to be passed to the script \n",
      "# directly using the --trim-tool option, and the jar file MUST be \n",
      "# nammed 'trimmomatic.jar'. I did this with a simlink, like so :\n",
      "#\n",
      "# http://www.usadellab.org/cms/?page=trimmomatic\n",
      "# unzip Trimmomatic-0.32.zip\n",
      "# cd Trimmomatic-0.32 \n",
      "# ln -s trimmomatic-0.32.jar trimmomatic.jar\n",
      "\n",
      "!perl raw/Demul_trim_prep.pl \\\n",
      "--trim-file ../barcodes/adapter_all_16s.txt \\\n",
      "--trim-tool /home/russell/pkg/Trimmomatic-0.32/ \\\n",
      "--read-len 300 \\\n",
      "--frag-len 253 \\\n",
      "--reverse \\\n",
      "raw fishpoo_map.tsv demul fishpoo &> demul.log\n",
      "\n",
      "# \n",
      "\n",
      "# Adjsut the sequence orientation so the reast of QIIME will work\n",
      "\n",
      "!adjust_seq_orientation.py -i $demuldata -o fishpoo.fasta"
     ],
     "language": "python",
     "metadata": {},
     "outputs": []
    },
    {
     "cell_type": "code",
     "collapsed": false,
     "input": [],
     "language": "python",
     "metadata": {},
     "outputs": [],
     "prompt_number": 1
    },
    {
     "cell_type": "code",
     "collapsed": false,
     "input": [
      "!pick_open_reference_otus.py \\\n",
      "-r $reference_seqs_97 \\\n",
      "-i fishpoo.fasta \\\n",
      "-o $outdir \\\n",
      "-f -a -O 16"
     ],
     "language": "python",
     "metadata": {},
     "outputs": [],
     "prompt_number": 16
    },
    {
     "cell_type": "code",
     "collapsed": false,
     "input": [
      "!make_phylogeny.py -i $outdir/pynast_aligned_seqs/rep_set_aligned.fasta"
     ],
     "language": "python",
     "metadata": {},
     "outputs": [],
     "prompt_number": 17
    },
    {
     "cell_type": "code",
     "collapsed": false,
     "input": [
      "##\n",
      "## Wrangle the BIOM tables.\n",
      "## \n",
      "\n",
      "# add our metadata\n",
      "\n",
      "!biom add-metadata \\\n",
      "-i $outdir/otu_table_mc2_w_tax.biom \\\n",
      "-m mapping.tsv \\\n",
      "-o $outdir/fishpoo_all.biom\n",
      "\n",
      "# Phase I\n",
      "\n",
      "!filter_samples_from_otu_table.py \\\n",
      "-i $outdir/fishpoo_all.biom \\\n",
      "-o $outdir/fishpoo_phase1_unfiltered.biom \\\n",
      "-m mapping.tsv \\\n",
      "-s \"Experiment:Phase I\"\n",
      "\n",
      "# remove OTUs with zero counts\n",
      "!filter_otus_from_otu_table.py \\\n",
      "-i $outdir/fishpoo_phase1_unfiltered.biom \\\n",
      "-o $outdir/fishpoo_phase1_hdf5.biom \\\n",
      "-n 1\n",
      "\n",
      "!biom convert \\\n",
      "-i $outdir/fishpoo_phase1_hdf5.biom \\\n",
      "-o $outdir/fishpoo_phase1_hdf5.biom \\\n",
      "--table-type=\"OTU table\" --to-json\n",
      "\n",
      "!biom summarize-table \\\n",
      "-i $outdir/fishpoo_phase1.biom \\\n",
      "-o $outdir/fishpoo_phase1.summary\n",
      "\n",
      "# Phase II\n",
      "\n",
      "!filter_samples_from_otu_table.py \\\n",
      "-i $outdir/fishpoo_all.biom \\\n",
      "-o $outdir/fishpoo_phase2_unfiltered.biom \\\n",
      "-m mapping.tsv \\\n",
      "-s \"Experiment:Phase II\"\n",
      "\n",
      "# remove OTUs with zero counts\n",
      "!filter_otus_from_otu_table.py \\\n",
      "-i $outdir/fishpoo_phase2_unfiltered.biom \\\n",
      "-o $outdir/fishpoo_phase2.biom \\\n",
      "-n 1\n",
      "\n",
      "!biom summarize-table \\\n",
      "-i $outdir/fishpoo_phase2.biom \\\n",
      "-o $outdir/fishpoo_phase2.summary\n",
      "\n",
      "# Dilution\n",
      "\n",
      "!filter_samples_from_otu_table.py \\\n",
      "-i $outdir/fishpoo_all.biom \\\n",
      "-o $outdir/fishpoo_dilution_unfiltered.biom \\\n",
      "-m mapping.tsv \\\n",
      "-s \"Experiment:Dilution\"\n",
      "\n",
      "# remove OTUs with zero counts\n",
      "!filter_otus_from_otu_table.py \\\n",
      "-i $outdir/fishpoo_dilution_unfiltered.biom \\\n",
      "-o $outdir/fishpoo_dilution.biom \\\n",
      "-n 1\n",
      "\n",
      "!biom summarize-table \\\n",
      "-i $outdir/fishpoo_dilution.biom \\\n",
      "-o $outdir/fishpoo_dilution.summary"
     ],
     "language": "python",
     "metadata": {},
     "outputs": [],
     "prompt_number": 18
    },
    {
     "cell_type": "code",
     "collapsed": false,
     "input": [
      "# run core diversity for each experiment\n",
      "\n",
      "!core_diversity_analyses.py \\\n",
      "-i $outdir/fishpoo_phase1.biom \\\n",
      "-o $outdir/core_diversity_phase1 \\\n",
      "-m mapping.tsv \\\n",
      "-e 26221 \\\n",
      "-t $outdir/rep_set.tre\n",
      "\n",
      "!core_diversity_analyses.py \\\n",
      "-i $outdir/fishpoo_phase2.biom \\\n",
      "-o $outdir/core_diversity_phase2 \\\n",
      "-m mapping.tsv \\\n",
      "-e 26221 \\\n",
      "-t $outdir/rep_set.tre\n",
      "\n",
      "!core_diversity_analyses.py \\\n",
      "-i $outdir/fishpoo_dilution.biom \\\n",
      "-o $outdir/core_diversity_dilution \\\n",
      "-m mapping.tsv \\\n",
      "-e 26221 \\\n",
      "-t $outdir/rep_set.tre"
     ],
     "language": "python",
     "metadata": {},
     "outputs": [
      {
       "output_type": "stream",
       "stream": "stdout",
       "text": [
        "/usr/local/lib/python2.7/dist-packages/skbio/stats/ordination/_principal_coordinate_analysis.py:107: RuntimeWarning: The result contains negative eigenvalues. Please compare their magnitude with the magnitude of some of the largest positive eigenvalues. If the negative ones are smaller, it's probably safe to ignore them, but if they are large in magnitude, the results won't be useful. See the Notes section for more details. The smallest eigenvalue is -0.0152307946383 and the largest is 0.767895910909.\r\n",
        "  RuntimeWarning\r\n"
       ]
      },
      {
       "output_type": "stream",
       "stream": "stdout",
       "text": [
        "/usr/local/lib/python2.7/dist-packages/skbio/stats/ordination/_principal_coordinate_analysis.py:107: RuntimeWarning: The result contains negative eigenvalues. Please compare their magnitude with the magnitude of some of the largest positive eigenvalues. If the negative ones are smaller, it's probably safe to ignore them, but if they are large in magnitude, the results won't be useful. See the Notes section for more details. The smallest eigenvalue is -0.0020767302668 and the largest is 0.101960301934.\r\n",
        "  RuntimeWarning\r\n"
       ]
      },
      {
       "output_type": "stream",
       "stream": "stdout",
       "text": [
        "/usr/local/lib/python2.7/dist-packages/skbio/stats/ordination/_principal_coordinate_analysis.py:107: RuntimeWarning: The result contains negative eigenvalues. Please compare their magnitude with the magnitude of some of the largest positive eigenvalues. If the negative ones are smaller, it's probably safe to ignore them, but if they are large in magnitude, the results won't be useful. See the Notes section for more details. The smallest eigenvalue is -0.00011262277748 and the largest is 0.16804138712.\r\n",
        "  RuntimeWarning\r\n"
       ]
      }
     ],
     "prompt_number": 20
    },
    {
     "cell_type": "code",
     "collapsed": false,
     "input": [
      "%load_ext rmagic"
     ],
     "language": "python",
     "metadata": {},
     "outputs": [
      {
       "metadata": {},
       "output_type": "display_data",
       "text": [
        "[1] \"foo.\"\n"
       ]
      }
     ],
     "prompt_number": 5
    },
    {
     "cell_type": "code",
     "collapsed": false,
     "input": [
      "%%R\n",
      "library(\"phyloseq\")\n",
      "print( packageVersion(\"phyloseq\") )\n",
      "library(\"ggplot2\")\n",
      "print( packageVersion(\"ggplot2\") )\n",
      "library(\"biom\")\n",
      "print( packageVersion(\"biom\") )\n",
      "\n",
      "fishpoobiom = read_biom(\"/home/russell/fishpoo/fishpoo_open97/fishpoo_phase1.biom\")\n",
      "print( \"foo\" )\n",
      "otumat = as(biom_data(fishpoobiom), \"matrix\")\n",
      "OTU = otu_table(otumat, taxa_are_rows=TRUE)\n",
      "taxmat = as.matrix(observation_metadata(fishpoobiom), rownames.force=TRUE)\n",
      "TAX = tax_table(taxmat)\n",
      "fishpoo = phyloseq(OTU, TAX)"
     ],
     "language": "python",
     "metadata": {},
     "outputs": [
      {
       "output_type": "stream",
       "stream": "stdout",
       "text": [
        "[1] \u20181.9.15\u2019\n",
        "[1] \u20181.0.0\u2019\n",
        "[1] \u20180.3.12\u2019\n",
        "Error in nchar(content) : invalid multibyte string 1\n"
       ]
      }
     ],
     "prompt_number": 16
    },
    {
     "cell_type": "code",
     "collapsed": false,
     "input": [
      "import csv\n",
      "\n",
      "colnames, rownames = [],[]\n",
      "table = []\n",
      "with open(\"fishpoo_open_reference_otus/fishpoo_phase1_otus.csv\") as f :\n",
      "    for n,row in enumerate(csv.reader(f)) :\n",
      "        if n == 0 : rownames = row; continue\n",
      "        colnames.append(row[0])\n",
      "        table.append(map(int, row[1:]))\n",
      "\n",
      "table = array(table)\n",
      "sampleID = {}\n",
      "with open(\"mapping.tsv\") as f :\n",
      "    for n,row in enumerate(csv.reader(f, delimiter='\\t')) :\n",
      "        if n == 0 : continue\n",
      "        if not row[6] == 'Phase I' : continue \n",
      "        sampleID[row[0]] = row[10]\n",
      "\n",
      "# merge replicates, normalize OTU counts to continuously variable\n",
      "# traits totalling to 100 per host\n",
      "mergeddata = {}\n",
      "for n,name in enumerate(rownames) :\n",
      "    if not mergeddata.has_key(sampleID[name]) :\n",
      "        mergeddata[sampleID[name]] = zeros(len(colnames))\n",
      "    mergeddata[sampleID[name]] = map(float, table[:,n])\n",
      "for key in mergeddata.keys() :\n",
      "    mergeddata[key] = 100 * ( mergeddata[key] / sum(mergeddata[key]) )\n",
      "\n",
      "f = open( 'fishpoo_open_reference_otus/fishpoo_phase1_otus_vs_host.csv', 'w' )\n",
      "f.write(','.join(colnames) + '\\n' )\n",
      "for n,name in enumerate(mergeddata.keys()) :\n",
      "    f.write(name + ',' + ','.join( map(str, mergeddata[name] ) ) + '\\n' )\n",
      "f.close()"
     ],
     "language": "python",
     "metadata": {},
     "outputs": [],
     "prompt_number": 205
    },
    {
     "cell_type": "code",
     "collapsed": false,
     "input": [
      "zip(mergeddata.keys(), map(max, mergeddata.values()))"
     ],
     "language": "python",
     "metadata": {},
     "outputs": [
      {
       "metadata": {},
       "output_type": "pyout",
       "prompt_number": 203,
       "text": [
        "[('Haplotaxodon_microlepis', 33.687768100870926),\n",
        " ('Xenotilapia_flavipinnis', 76.600777047612183),\n",
        " ('Plecodus_straeleni', 54.764919733671015),\n",
        " ('Tanganicodus_irsacae', 84.497154028477013),\n",
        " ('Reganochromis_calliurus', 57.037338067432394),\n",
        " ('Control_1', 45.562130177514796),\n",
        " ('Food', 30.028905531467615),\n",
        " ('Cyprichromis_coloratus', 78.119673321772126),\n",
        " ('Water_control', 22.928068803752932),\n",
        " ('Neolamprologus_buescheri', 82.331670940050529),\n",
        " ('Trematochromis_benthicola', 54.344510055306529),\n",
        " ('Lobochilotes_labiatus', 59.36221933873167),\n",
        " ('Tropheus_moorii', 24.073204109561061),\n",
        " ('Kit_control', 24.160932453307119),\n",
        " ('Chalinochromis_brichardi', 36.921488530771647),\n",
        " ('Triglachromis_otostigma', 63.208636929091874),\n",
        " ('Charcoal_control', 34.606976523144191),\n",
        " ('Perissodus_microlepis', 35.708117443868737),\n",
        " ('Lepidiolamprologus_profundicola', 59.627736122699247)]"
       ]
      }
     ],
     "prompt_number": 203
    },
    {
     "cell_type": "code",
     "collapsed": false,
     "input": [
      "zeros(10)"
     ],
     "language": "python",
     "metadata": {},
     "outputs": [
      {
       "metadata": {},
       "output_type": "pyout",
       "prompt_number": 182,
       "text": [
        "array([ 0.,  0.,  0.,  0.,  0.,  0.,  0.,  0.,  0.,  0.])"
       ]
      }
     ],
     "prompt_number": 182
    },
    {
     "cell_type": "code",
     "collapsed": false,
     "input": [
      "!identify_chimeric_seqs.py \\\n",
      "-m ChimeraSlayer \\\n",
      "-i fishpoo_open_reference_otus/pynast_aligned_seqs/rep_set_aligned_pfiltered.fasta \\\n",
      "-a /home/russell/gg_13_8_otus/rep_set_aligned/97_otus.fasta \\\n",
      "-o fishpoo_open_reference_otus/chimeras.txt"
     ],
     "language": "python",
     "metadata": {},
     "outputs": []
    }
   ],
   "metadata": {}
  }
 ]
}