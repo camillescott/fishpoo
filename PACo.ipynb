{
 "cells": [
  {
   "cell_type": "code",
   "execution_count": 1,
   "metadata": {
    "collapsed": false
   },
   "outputs": [],
   "source": [
    "%load_ext rpy2.ipython\n",
    "%load_ext retina"
   ]
  },
  {
   "cell_type": "code",
   "execution_count": 3,
   "metadata": {
    "collapsed": false
   },
   "outputs": [],
   "source": [
    "%%R\n",
    "library (ape)\n",
    "library(vegan)\n",
    "\n",
    "### 1. PACo FUNCTION: adjustemt prior to Procrustes analysis\n",
    "PACo <- function (H.dist, P.dist, HP.bin)\n",
    "{ \n",
    "    HP.bin <- which(HP.bin > 0, arr.in=TRUE)\n",
    "    H.PCo <- pcoa(H.dist, correction=\"cailliez\")$vectors #Performs PCo of Host distances \n",
    "    P.PCo <- pcoa(P.dist, correction=\"cailliez\")$vectors #Performs PCo of Parasite distances\n",
    "    H.PCo <- H.PCo[HP.bin[,1],] #adjust Host PCo vectors \n",
    "    P.PCo <- P.PCo[HP.bin[,2],]  ##adjust Parasite PCo vectors\n",
    "    list (H.PCo = H.PCo, P.PCo = P.PCo)\n",
    "}"
   ]
  },
  {
   "cell_type": "code",
   "execution_count": 43,
   "metadata": {
    "collapsed": false
   },
   "outputs": [],
   "source": [
    "%%R\n",
    "### 2. DATA INPUT\n",
    "#TreeH <- read.tree(\"../../Downloads/example/gophers/phylo_gopher.tre\")\n",
    "#TreeP <- read.tree(\"../../Downloads/example/gophers/phylo_lice.tre\")\n",
    "TreeH <- read.tree(\"rabosky_trimmed.tre\")\n",
    "TreeP <- read.tree(\"RAxML_bestTree.fishpoo_ssu.raxml\")\n",
    "\n",
    "#Compute patristic distances:\n",
    "host.D <- cophenetic (TreeH)\n",
    "para.D <- cophenetic (TreeP)\n",
    "\n",
    "## Read HP: host-parasite association matrix\n",
    "##          Hosts in rows, parasites in columns. Taxa names are included in \n",
    "##          the file and should match those in tree, sequence or distance files. \n",
    "HP <- as.matrix(read.table(\"fish-bacteria_links.tsv\", header=TRUE)) \n",
    "\n",
    "#Sort host and parasite taxa in distance matrices to match the HP matrix:\n",
    "host.D <- host.D[rownames(HP),rownames(HP)]\n",
    "para.D <- para.D[colnames(HP), colnames(HP)]"
   ]
  },
  {
   "cell_type": "code",
   "execution_count": 44,
   "metadata": {
    "collapsed": true
   },
   "outputs": [],
   "source": [
    "%%R\n",
    "\n",
    "### 3. APPLY PACo FUNCTION  \n",
    "PACo.fit <- PACo(host.D, para.D, HP)\n",
    "HP.proc <- procrustes(PACo.fit$H.PCo, PACo.fit$P.PCo) #Procrustes Ordination \n",
    "NLinks = sum(HP) #Number of H-P links; needed for further computations"
   ]
  },
  {
   "cell_type": "code",
   "execution_count": 45,
   "metadata": {
    "collapsed": false
   },
   "outputs": [
    {
     "data": {
      "text/plain": [
       "integer(0)\n"
      ]
     },
     "metadata": {},
     "output_type": "display_data"
    },
    {
     "data": {
      "image/png": "[encoded data removed]"
     },
     "metadata": {},
     "output_type": "display_data"
    }
   ],
   "source": [
    "%%R -w 800 -h 480 -u px\n",
    "\n",
    "#3.1 Plot of host and parasite ordination:\n",
    "HostX <- HP.proc$X #host ordination matrix\n",
    "ParY <- HP.proc$Yrot #parasite ordination matrix, scaled and rotated to fit HostX\n",
    "\n",
    "#Plotting host and parasite ordinations\n",
    "plot(HostX, asp=1, pch=46) \n",
    "points(ParY, pch=1)\n",
    "arrows(ParY[,1], ParY[,2], HostX[,1], HostX[,2], length=0.12, angle=15, xpd=FALSE)\n",
    "HostX <- unique(HP.proc$X) \n",
    "ParY <- unique(HP.proc$Yrot) #unique() removes duplicated points - convenient for labelling of points below\n",
    "identify(ParY[,1], ParY[,2], rownames(ParY), offset=0.3, xpd=FALSE, cex=0.8) #interactive labelling\n",
    "identify(HostX[,1], HostX[,2], rownames(HostX),offset=0.3, xpd=TRUE, cex= 0.8)"
   ]
  },
  {
   "cell_type": "code",
   "execution_count": null,
   "metadata": {
    "collapsed": false
   },
   "outputs": [],
   "source": [
    "%%R\n",
    "# 3.2 Goodness-of-fit-test\n",
    "m2.obs <- HP.proc$ss #observed sum of squares\n",
    "N.perm = 100000 #set number of permutations for testing\n",
    "P.value = 0\n",
    "seed <-.Random.seed[trunc(runif(1,1,626))]\n",
    "set.seed(seed)\n",
    "\n",
    "#set.seed(5) ### use this option to obtain reproducible randomizations\n",
    "for (n in c(1:N.perm)) { \n",
    "    #control statement to avoid all parasites beig associated to a single host\n",
    "    if (NLinks <= nrow(HP) | NLinks <= ncol(HP)) { \n",
    "        flag2 <- TRUE \n",
    "        while (flag2 == TRUE) { \n",
    "            HP.perm <- t(apply(HP,1,sample))\n",
    "            if(any(colSums(HP.perm) == NLinks)) flag2 <- TRUE else flag2 <- FALSE\n",
    "        }\n",
    "    } else { HP.perm <- t(apply(HP,1,sample)) } #permutes each HP row independently\n",
    "    PACo.perm <- PACo(host.D, para.D, HP.perm)\n",
    "    m2.perm <- procrustes(PACo.perm$H.PCo, PACo.perm$P.PCo)$ss #randomized sum of squares\n",
    "    #write (m2.perm, file = \"D:/m2_perm.txt\", sep =\"\\t\", append =TRUE) \n",
    "    #option to save m2 from each permutation\n",
    "    if (m2.perm <= m2.obs) {P.value = P.value + 1} \n",
    "}\n",
    "P.value <- P.value/N.perm\n",
    "cat(\" The observed m2 is \", m2.obs, \"\\n\", \"P-value = \", P.value, \" based on \", N.perm,\" permutations.\")"
   ]
  },
  {
   "cell_type": "code",
   "execution_count": null,
   "metadata": {
    "collapsed": true
   },
   "outputs": [],
   "source": [
    "%%R\n",
    "#3.3 Contribution of individual links\n",
    "\n",
    "HP.ones <- which(HP > 0, arr.in=TRUE)\n",
    "SQres.jackn <- matrix(rep(NA, NLinks**2), NLinks)# empty matrix of jackknifed squared residuals\n",
    "\n",
    "#colnames identify the H-P link\n",
    "colnames (SQres.jackn) <- paste(rownames(HP.proc$X),rownames(HP.proc$Yrot), sep=\"-\") \n",
    "t.critical = qt(0.975,NLinks-1) #Needed to compute 95% confidence intervals.\n",
    "\n",
    "#PACo setting the ith link = 0\n",
    "for(i in c(1:NLinks)) {\n",
    "    HP.ind <- HP\n",
    "    HP.ind[HP.ones[i,1],HP.ones[i,2]]=0\n",
    "    PACo.ind <- PACo(host.D, para.D, HP.ind)\n",
    "    Proc.ind <- procrustes(PACo.ind$H.PCo, PACo.ind$P.PCo) \n",
    "    res.Proc.ind <- c(residuals(Proc.ind))\n",
    "    res.Proc.ind <- append (res.Proc.ind, NA, after= i-1)\n",
    "    SQres.jackn [i, ] <- res.Proc.ind #Append residuals to matrix of jackknifed squared residuals\n",
    "}"
   ]
  },
  {
   "cell_type": "code",
   "execution_count": null,
   "metadata": {
    "collapsed": true
   },
   "outputs": [],
   "source": [
    "%%R\n",
    "#Jackknifed residuals are squared\n",
    "SQres.jackn <- SQres.jackn**2\n",
    "\n",
    "# Vector of original square residuals\n",
    "SQres <- (residuals (HP.proc))**2 \n",
    "\n",
    "#jackknife calculations:\n",
    "SQres.jackn <- SQres.jackn*(-(NLinks-1))\n",
    "SQres <- SQres*NLinks\n",
    "SQres.jackn <- t(apply(SQres.jackn, 1, \"+\", SQres)) #apply jackknife function to matrix\n",
    "phi.mean <- apply(SQres.jackn, 2, mean, na.rm = TRUE) #mean jackknife estimate per link\n",
    "phi.UCI <- apply(SQres.jackn, 2, sd, na.rm = TRUE) #standard deviation of estimates\n",
    "phi.UCI <- phi.mean + t.critical * phi.UCI/sqrt(NLinks) #upper 95% confidence interval"
   ]
  },
  {
   "cell_type": "code",
   "execution_count": null,
   "metadata": {
    "collapsed": false
   },
   "outputs": [],
   "source": [
    "%%R -w 800 -h 480 -u px\n",
    "\n",
    "#barplot of squared jackknifed residuals\n",
    "pat.bar <- barplot(phi.mean, names.arg = \" \", space = 0.25, col=\"white\", xlab= \"Host-parasite links\", ylab= \"Squared residuals\", ylim=c(0, max(phi.UCI)), cex.lab=1.2)\n",
    "text(pat.bar, par(\"usr\")[3] - 0.001, srt = 330, adj = 0, labels = colnames(SQres.jackn), xpd = TRUE, font = 1, cex=0.6)\n",
    "arrows(pat.bar, phi.mean, pat.bar, phi.UCI, length= 0.05, angle=90)\n",
    "abline(a=median(phi.mean), b=0, lty=2, xpd=FALSE) #draws a line across the median residual value"
   ]
  },
  {
   "cell_type": "code",
   "execution_count": null,
   "metadata": {
    "collapsed": true
   },
   "outputs": [],
   "source": []
  }
 ],
 "metadata": {
  "kernelspec": {
   "display_name": "Python 2",
   "language": "python",
   "name": "python2"
  },
  "language_info": {
   "codemirror_mode": {
    "name": "ipython",
    "version": 2
   },
   "file_extension": ".py",
   "mimetype": "text/x-python",
   "name": "python",
   "nbconvert_exporter": "python",
   "pygments_lexer": "ipython2",
   "version": "2.7.9"
  }
 },
 "nbformat": 4,
 "nbformat_minor": 0
}
