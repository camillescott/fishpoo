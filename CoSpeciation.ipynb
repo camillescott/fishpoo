{
 "metadata": {
  "name": "",
  "signature": "sha256:88a1d58d6aa74c7cd7475c76489b10e7c532246a60ea6c5993a591d5179131f1"
 },
 "nbformat": 3,
 "nbformat_minor": 0,
 "worksheets": [
  {
   "cells": [
    {
     "cell_type": "code",
     "collapsed": false,
     "input": [
      "import pandas as pd\n",
      "import numpy as np\n",
      "import biom\n",
      "import csv\n",
      "\n",
      "def exploding_panda(_bt):\n",
      "    m = _bt.matrix_data\n",
      "    data = [pd.SparseSeries(m[i].toarray().ravel()) for i in np.arange(m.shape[0])]\n",
      "    out = pd.SparseDataFrame(data, index=_bt.ids('observation'),\n",
      "                             columns=_bt.ids('sample'))\n",
      "\n",
      "    return out\n",
      "\n",
      "phase1_otus = exploding_panda( biom.load_table('fishpoo_open97/fishpoo_phase1.biom') )\n",
      "\n",
      "mapping = []\n",
      "with open(\"fishpoo_map.tsv\") as f :\n",
      "    for n,row in enumerate(csv.reader(f, delimiter='\\t')) :\n",
      "        if n == 0 : colnames = row; continue\n",
      "        mapping.append( dict( zip( colnames, row ) ) )\n",
      "\n",
      "mapping = pd.DataFrame( mapping )\n",
      "\n",
      "phase_1 = mapping[mapping.Experiment == 'Phase I']\n",
      "\n",
      "# drop the samples that aren't fish\n",
      "phase_1 = phase_1[phase_1['#SampleID'].isin(['KITCNT1', 'CHARCNT', 'WATERCNT', 'FOOD', 'Neg.Control.1' ]) == False]\n",
      "\n",
      "# give me a table mapping sample IDs to the host taxon\n",
      "host_names = phase_1[['#SampleID','Host']]\n",
      "\n",
      "# Take the OTU counts for host taxa with more than one \n",
      "# individual, and merge them (basically, and inner join),\n",
      "# and then normalize the OTU counts for each taxa to 1\n",
      "merged_counts = pd.merge(phase1_otus.T, host_names, left_index=True, right_on='#SampleID').groupby('Host').sum()\n",
      "del merged_counts['#SampleID']\n",
      "merged_counts = merged_counts.div( merged_counts.sum(axis=1), axis=0)\n",
      "\n",
      "# Let's try to talk to R from python. Then I don't have to figure out \n",
      "# how to do parsing, logic and flow control in R anymore\n",
      "\n",
      "from rpy2.robjects.packages import importr\n",
      "import rpy2.robjects as ro\n",
      "\n",
      "# R namespaces are kind of a joke\n",
      "ape_translations = {'delta.plot'            : 'delta_plot',\n",
      "                    'delta_plot'            : 'delta__plot',\n",
      "                    'dist.dna'              : 'dist_dna',\n",
      "                    'dist_dna'              : 'dist__dna',\n",
      "                    'dist.nodes'            : 'dist_nodes',\n",
      "                    'dist_nodes'            : 'dist__nodes',\n",
      "                    'node.depth'            : 'node_depth',\n",
      "                    'node_depth'            : 'node__depth',\n",
      "                    'node.depth.edgelength' : 'node_depth_edgelength',\n",
      "                    'node_depth_edgelength' : 'node__depth__edgelength',\n",
      "                    'node.height'           : 'node_height',\n",
      "                    'node_height'           : 'node__height', \n",
      "                    'node.height.clado'     : 'node_height_clado',\n",
      "                    'node_height_clado'     : 'node__height__clado',\n",
      "                    'prop.part'             : 'prop_part',\n",
      "                    'prop_part'             : 'prop__part', }\n",
      "ape = importr('ape', robject_translations = ape_translations )\n",
      "\n",
      "phytools = importr('phytools')\n",
      "\n",
      "adephylo = importr('adephylo')\n",
      "phylobase = importr('phylobase')\n",
      "\n",
      "# read in the big fish tree\n",
      "rabosky = ape.read_tree( \"host_tree/raboskytree/Rabosky_et_al_timetree.tre\" )\n",
      "\n",
      "# compute the list of taxa to drop from the big fish tree\n",
      "myfishnames  = set(open(\"host_tree/raboskytree/fish_names.txt\").read().split())\n",
      "allfishnames = set(rabosky.rx('tip.label')[0])\n",
      "dropnames    = allfishnames.difference(myfishnames)\n",
      "\n",
      "# drop the fish I don't need\n",
      "rabosky_trimmed = ape.drop_tip( rabosky, ro.vectors.StrVector( list(dropnames) ) )\n",
      "\n",
      "# not all of my fish are in the big tree, so we're going to use\n",
      "# their sister taxa as stand-ins\n",
      "rabosky_trimmed[2][ rabosky_trimmed[2].index('Neolamprologus_cylindricus')   ] = \"Neolamprologus_buescheri\"\n",
      "rabosky_trimmed[2][ rabosky_trimmed[2].index('Cyprichromis_jumbo')           ] = \"Cyprichromis_coloratus\"\n",
      "rabosky_trimmed[2][ rabosky_trimmed[2].index('Baileychromis_centropomoides') ] = \"Reganochromis_calliurus\"\n",
      "rabosky_trimmed[2][ rabosky_trimmed[2].index('Limnochromis_abeelei')         ] = \"Trematochromis_benthicola\"\n",
      "\n"
     ],
     "language": "python",
     "metadata": {},
     "outputs": [
      {
       "ename": "TypeError",
       "evalue": "'SingleBlockManager' object is not callable",
       "output_type": "pyerr",
       "traceback": [
        "\u001b[0;31m---------------------------------------------------------------------------\u001b[0m\n\u001b[0;31mTypeError\u001b[0m                                 Traceback (most recent call last)",
        "\u001b[0;32m<ipython-input-13-c53da44bb5d4>\u001b[0m in \u001b[0;36m<module>\u001b[0;34m()\u001b[0m\n\u001b[1;32m     33\u001b[0m \u001b[0;31m# individual, and merge them (basically, and inner join),\u001b[0m\u001b[0;34m\u001b[0m\u001b[0;34m\u001b[0m\u001b[0m\n\u001b[1;32m     34\u001b[0m \u001b[0;31m# and then normalize the OTU counts for each taxa to 1\u001b[0m\u001b[0;34m\u001b[0m\u001b[0;34m\u001b[0m\u001b[0m\n\u001b[0;32m---> 35\u001b[0;31m \u001b[0mmerged_counts\u001b[0m \u001b[0;34m=\u001b[0m \u001b[0mpd\u001b[0m\u001b[0;34m.\u001b[0m\u001b[0mmerge\u001b[0m\u001b[0;34m(\u001b[0m\u001b[0mphase1_otus\u001b[0m\u001b[0;34m.\u001b[0m\u001b[0mT\u001b[0m\u001b[0;34m,\u001b[0m \u001b[0mhost_names\u001b[0m\u001b[0;34m,\u001b[0m \u001b[0mleft_index\u001b[0m\u001b[0;34m=\u001b[0m\u001b[0mTrue\u001b[0m\u001b[0;34m,\u001b[0m \u001b[0mright_on\u001b[0m\u001b[0;34m=\u001b[0m\u001b[0;34m'#SampleID'\u001b[0m\u001b[0;34m)\u001b[0m\u001b[0;34m.\u001b[0m\u001b[0mgroupby\u001b[0m\u001b[0;34m(\u001b[0m\u001b[0;34m'Host'\u001b[0m\u001b[0;34m)\u001b[0m\u001b[0;34m.\u001b[0m\u001b[0msum\u001b[0m\u001b[0;34m(\u001b[0m\u001b[0;34m)\u001b[0m\u001b[0;34m\u001b[0m\u001b[0m\n\u001b[0m\u001b[1;32m     36\u001b[0m \u001b[0;32mdel\u001b[0m \u001b[0mmerged_counts\u001b[0m\u001b[0;34m[\u001b[0m\u001b[0;34m'#SampleID'\u001b[0m\u001b[0;34m]\u001b[0m\u001b[0;34m\u001b[0m\u001b[0m\n\u001b[1;32m     37\u001b[0m \u001b[0mmerged_counts\u001b[0m \u001b[0;34m=\u001b[0m \u001b[0mmerged_counts\u001b[0m\u001b[0;34m.\u001b[0m\u001b[0mdiv\u001b[0m\u001b[0;34m(\u001b[0m \u001b[0mmerged_counts\u001b[0m\u001b[0;34m.\u001b[0m\u001b[0msum\u001b[0m\u001b[0;34m(\u001b[0m\u001b[0maxis\u001b[0m\u001b[0;34m=\u001b[0m\u001b[0;36m1\u001b[0m\u001b[0;34m)\u001b[0m\u001b[0;34m,\u001b[0m \u001b[0maxis\u001b[0m\u001b[0;34m=\u001b[0m\u001b[0;36m0\u001b[0m\u001b[0;34m)\u001b[0m\u001b[0;34m\u001b[0m\u001b[0m\n",
        "\u001b[0;32m/usr/lib/python2.7/dist-packages/pandas/core/generic.pyc\u001b[0m in \u001b[0;36mgroupby\u001b[0;34m(self, by, axis, level, as_index, sort, group_keys, squeeze)\u001b[0m\n\u001b[1;32m   2871\u001b[0m         \u001b[0maxis\u001b[0m \u001b[0;34m=\u001b[0m \u001b[0mself\u001b[0m\u001b[0;34m.\u001b[0m\u001b[0m_get_axis_number\u001b[0m\u001b[0;34m(\u001b[0m\u001b[0maxis\u001b[0m\u001b[0;34m)\u001b[0m\u001b[0;34m\u001b[0m\u001b[0m\n\u001b[1;32m   2872\u001b[0m         return groupby(self, by, axis=axis, level=level, as_index=as_index,\n\u001b[0;32m-> 2873\u001b[0;31m                        sort=sort, group_keys=group_keys, squeeze=squeeze)\n\u001b[0m\u001b[1;32m   2874\u001b[0m \u001b[0;34m\u001b[0m\u001b[0m\n\u001b[1;32m   2875\u001b[0m     \u001b[0;32mdef\u001b[0m \u001b[0masfreq\u001b[0m\u001b[0;34m(\u001b[0m\u001b[0mself\u001b[0m\u001b[0;34m,\u001b[0m \u001b[0mfreq\u001b[0m\u001b[0;34m,\u001b[0m \u001b[0mmethod\u001b[0m\u001b[0;34m=\u001b[0m\u001b[0mNone\u001b[0m\u001b[0;34m,\u001b[0m \u001b[0mhow\u001b[0m\u001b[0;34m=\u001b[0m\u001b[0mNone\u001b[0m\u001b[0;34m,\u001b[0m \u001b[0mnormalize\u001b[0m\u001b[0;34m=\u001b[0m\u001b[0mFalse\u001b[0m\u001b[0;34m)\u001b[0m\u001b[0;34m:\u001b[0m\u001b[0;34m\u001b[0m\u001b[0m\n",
        "\u001b[0;32m/usr/lib/python2.7/dist-packages/pandas/core/groupby.pyc\u001b[0m in \u001b[0;36mgroupby\u001b[0;34m(obj, by, **kwds)\u001b[0m\n\u001b[1;32m   1187\u001b[0m         \u001b[0;32mraise\u001b[0m \u001b[0mTypeError\u001b[0m\u001b[0;34m(\u001b[0m\u001b[0;34m'invalid type: %s'\u001b[0m \u001b[0;34m%\u001b[0m \u001b[0mtype\u001b[0m\u001b[0;34m(\u001b[0m\u001b[0mobj\u001b[0m\u001b[0;34m)\u001b[0m\u001b[0;34m)\u001b[0m\u001b[0;34m\u001b[0m\u001b[0m\n\u001b[1;32m   1188\u001b[0m \u001b[0;34m\u001b[0m\u001b[0m\n\u001b[0;32m-> 1189\u001b[0;31m     \u001b[0;32mreturn\u001b[0m \u001b[0mklass\u001b[0m\u001b[0;34m(\u001b[0m\u001b[0mobj\u001b[0m\u001b[0;34m,\u001b[0m \u001b[0mby\u001b[0m\u001b[0;34m,\u001b[0m \u001b[0;34m**\u001b[0m\u001b[0mkwds\u001b[0m\u001b[0;34m)\u001b[0m\u001b[0;34m\u001b[0m\u001b[0m\n\u001b[0m\u001b[1;32m   1190\u001b[0m \u001b[0;34m\u001b[0m\u001b[0m\n\u001b[1;32m   1191\u001b[0m \u001b[0;34m\u001b[0m\u001b[0m\n",
        "\u001b[0;32m/usr/lib/python2.7/dist-packages/pandas/core/groupby.pyc\u001b[0m in \u001b[0;36m__init__\u001b[0;34m(self, obj, keys, axis, level, grouper, exclusions, selection, as_index, sort, group_keys, squeeze)\u001b[0m\n\u001b[1;32m    379\u001b[0m         \u001b[0;32mif\u001b[0m \u001b[0mgrouper\u001b[0m \u001b[0;32mis\u001b[0m \u001b[0mNone\u001b[0m\u001b[0;34m:\u001b[0m\u001b[0;34m\u001b[0m\u001b[0m\n\u001b[1;32m    380\u001b[0m             grouper, exclusions, obj = _get_grouper(obj, keys, axis=axis,\n\u001b[0;32m--> 381\u001b[0;31m                                                     level=level, sort=sort)\n\u001b[0m\u001b[1;32m    382\u001b[0m \u001b[0;34m\u001b[0m\u001b[0m\n\u001b[1;32m    383\u001b[0m         \u001b[0mself\u001b[0m\u001b[0;34m.\u001b[0m\u001b[0mobj\u001b[0m \u001b[0;34m=\u001b[0m \u001b[0mobj\u001b[0m\u001b[0;34m\u001b[0m\u001b[0m\n",
        "\u001b[0;32m/usr/lib/python2.7/dist-packages/pandas/core/groupby.pyc\u001b[0m in \u001b[0;36m_get_grouper\u001b[0;34m(obj, key, axis, level, sort)\u001b[0m\n\u001b[1;32m   2113\u001b[0m             \u001b[0;32mraise\u001b[0m \u001b[0mValueError\u001b[0m\u001b[0;34m(\u001b[0m\u001b[0;34m\"Categorical grouper must have len(grouper) == len(data)\"\u001b[0m\u001b[0;34m)\u001b[0m\u001b[0;34m\u001b[0m\u001b[0m\n\u001b[1;32m   2114\u001b[0m \u001b[0;34m\u001b[0m\u001b[0m\n\u001b[0;32m-> 2115\u001b[0;31m         \u001b[0mping\u001b[0m \u001b[0;34m=\u001b[0m \u001b[0mGrouping\u001b[0m\u001b[0;34m(\u001b[0m\u001b[0mgroup_axis\u001b[0m\u001b[0;34m,\u001b[0m \u001b[0mgpr\u001b[0m\u001b[0;34m,\u001b[0m \u001b[0mobj\u001b[0m\u001b[0;34m=\u001b[0m\u001b[0mobj\u001b[0m\u001b[0;34m,\u001b[0m \u001b[0mname\u001b[0m\u001b[0;34m=\u001b[0m\u001b[0mname\u001b[0m\u001b[0;34m,\u001b[0m \u001b[0mlevel\u001b[0m\u001b[0;34m=\u001b[0m\u001b[0mlevel\u001b[0m\u001b[0;34m,\u001b[0m \u001b[0msort\u001b[0m\u001b[0;34m=\u001b[0m\u001b[0msort\u001b[0m\u001b[0;34m)\u001b[0m\u001b[0;34m\u001b[0m\u001b[0m\n\u001b[0m\u001b[1;32m   2116\u001b[0m         \u001b[0mgroupings\u001b[0m\u001b[0;34m.\u001b[0m\u001b[0mappend\u001b[0m\u001b[0;34m(\u001b[0m\u001b[0mping\u001b[0m\u001b[0;34m)\u001b[0m\u001b[0;34m\u001b[0m\u001b[0m\n\u001b[1;32m   2117\u001b[0m \u001b[0;34m\u001b[0m\u001b[0m\n",
        "\u001b[0;32m/usr/lib/python2.7/dist-packages/pandas/core/groupby.pyc\u001b[0m in \u001b[0;36m__init__\u001b[0;34m(self, index, grouper, obj, name, level, sort)\u001b[0m\n\u001b[1;32m   1953\u001b[0m                     \u001b[0mt\u001b[0m \u001b[0;34m=\u001b[0m \u001b[0mself\u001b[0m\u001b[0;34m.\u001b[0m\u001b[0mname\u001b[0m \u001b[0;32mor\u001b[0m \u001b[0mstr\u001b[0m\u001b[0;34m(\u001b[0m\u001b[0mtype\u001b[0m\u001b[0;34m(\u001b[0m\u001b[0mself\u001b[0m\u001b[0;34m.\u001b[0m\u001b[0mgrouper\u001b[0m\u001b[0;34m)\u001b[0m\u001b[0;34m)\u001b[0m\u001b[0;34m\u001b[0m\u001b[0m\n\u001b[1;32m   1954\u001b[0m                     \u001b[0;32mraise\u001b[0m \u001b[0mValueError\u001b[0m\u001b[0;34m(\u001b[0m\u001b[0;34m\"Grouper for '%s' not 1-dimensional\"\u001b[0m \u001b[0;34m%\u001b[0m \u001b[0mt\u001b[0m\u001b[0;34m)\u001b[0m\u001b[0;34m\u001b[0m\u001b[0m\n\u001b[0;32m-> 1955\u001b[0;31m                 \u001b[0mself\u001b[0m\u001b[0;34m.\u001b[0m\u001b[0mgrouper\u001b[0m \u001b[0;34m=\u001b[0m \u001b[0mself\u001b[0m\u001b[0;34m.\u001b[0m\u001b[0mindex\u001b[0m\u001b[0;34m.\u001b[0m\u001b[0mmap\u001b[0m\u001b[0;34m(\u001b[0m\u001b[0mself\u001b[0m\u001b[0;34m.\u001b[0m\u001b[0mgrouper\u001b[0m\u001b[0;34m)\u001b[0m\u001b[0;34m\u001b[0m\u001b[0m\n\u001b[0m\u001b[1;32m   1956\u001b[0m                 if not (hasattr(self.grouper, \"__len__\") and\n\u001b[1;32m   1957\u001b[0m                         len(self.grouper) == len(self.index)):\n",
        "\u001b[0;32m/usr/lib/python2.7/dist-packages/pandas/core/index.pyc\u001b[0m in \u001b[0;36mmap\u001b[0;34m(self, mapper)\u001b[0m\n\u001b[1;32m   1543\u001b[0m \u001b[0;34m\u001b[0m\u001b[0m\n\u001b[1;32m   1544\u001b[0m     \u001b[0;32mdef\u001b[0m \u001b[0mmap\u001b[0m\u001b[0;34m(\u001b[0m\u001b[0mself\u001b[0m\u001b[0;34m,\u001b[0m \u001b[0mmapper\u001b[0m\u001b[0;34m)\u001b[0m\u001b[0;34m:\u001b[0m\u001b[0;34m\u001b[0m\u001b[0m\n\u001b[0;32m-> 1545\u001b[0;31m         \u001b[0;32mreturn\u001b[0m \u001b[0mself\u001b[0m\u001b[0;34m.\u001b[0m\u001b[0m_arrmap\u001b[0m\u001b[0;34m(\u001b[0m\u001b[0mself\u001b[0m\u001b[0;34m.\u001b[0m\u001b[0mvalues\u001b[0m\u001b[0;34m,\u001b[0m \u001b[0mmapper\u001b[0m\u001b[0;34m)\u001b[0m\u001b[0;34m\u001b[0m\u001b[0m\n\u001b[0m\u001b[1;32m   1546\u001b[0m \u001b[0;34m\u001b[0m\u001b[0m\n\u001b[1;32m   1547\u001b[0m     \u001b[0;32mdef\u001b[0m \u001b[0misin\u001b[0m\u001b[0;34m(\u001b[0m\u001b[0mself\u001b[0m\u001b[0;34m,\u001b[0m \u001b[0mvalues\u001b[0m\u001b[0;34m,\u001b[0m \u001b[0mlevel\u001b[0m\u001b[0;34m=\u001b[0m\u001b[0mNone\u001b[0m\u001b[0;34m)\u001b[0m\u001b[0;34m:\u001b[0m\u001b[0;34m\u001b[0m\u001b[0m\n",
        "\u001b[0;32m/usr/lib/python2.7/dist-packages/pandas/algos.so\u001b[0m in \u001b[0;36mpandas.algos.arrmap_int64 (pandas/algos.c:76401)\u001b[0;34m()\u001b[0m\n",
        "\u001b[0;31mTypeError\u001b[0m: 'SingleBlockManager' object is not callable"
       ]
      }
     ],
     "prompt_number": 13
    },
    {
     "cell_type": "code",
     "collapsed": false,
     "input": [
      "import subprocess\n",
      "import dendropy\n",
      "\n",
      "microbe_tree = dendropy.Tree.get( path='fishpoo_open97/rep_set.tre', schema='newick')\n",
      "\n",
      "def tree_trait( otu_names, merged_counts ) :\n",
      "    # The bacteria/archaea tree may contain leaves that are not in\n",
      "    # our OTU table. Those weren't observed, so we just drop them;\n",
      "    # it works out the same as zero counts for all hosts.\n",
      "    otu_names = list( set(otu_names).intersection(set(merged_counts.columns) ) )\n",
      "    trait_table = merged_counts[ otu_names ].sum(axis=1).to_dict()\n",
      "    for key in trait_table.keys() :\n",
      "        trait_table[ key.replace( ' ', '_' ) ] = trait_table[key]\n",
      "        del trait_table[key]\n",
      "    r_trate_table = ro.vectors.FloatVector(trait_table.values())\n",
      "    r_trate_table.names = trait_table.keys()\n",
      "    return r_trate_table\n",
      "\n",
      "def psigs( leafs ) :\n",
      "    tt = tree_trait( leafs, merged_counts )\n",
      "    K = phytools.phylosig( rabosky_trimmed, tt, method='K' )[0]\n",
      "    l_lambda, l_logL = map( lambda x : x[0], phytools.phylosig( rabosky_trimmed, tt, method='lambda' ) )\n",
      "    I = adephylo.abouheif_moran( phylobase.phylo4d( rabosky_trimmed, tt ), method=\"Abouheif\" )[1][0]\n",
      "    Cmean = adephylo.abouheif_moran( phylobase.phylo4d( rabosky_trimmed, tt ), method=\"oriAbouheif\" )[1][0]\n",
      "    return { 'K' : K, 'l_lambda' : l_lambda, 'l_logL' : l_logL, 'I' : I, 'Cmean' : Cmean }\n",
      "\n",
      "def TreeOTU( i ) :\n",
      "    return map( lambda x : x.split(','), subprocess.check_output(['../pkg/TreeOTU/TreeOTU.pl', \n",
      "                                                                  '-i', 'fishpoo_open97/rep_set.tre', \n",
      "                                                                  '-c', str(i)]).split())[1:]\n"
     ],
     "language": "python",
     "metadata": {},
     "outputs": [],
     "prompt_number": 60
    },
    {
     "cell_type": "code",
     "collapsed": false,
     "input": [
      "%pylab inline \n",
      "\n",
      "random_counts = pd.DataFrame( np.random.random( map( len, merged_counts.axes ) ) )\n",
      "random_counts = random_counts.div( random_counts.sum(axis=1), axis=0 )\n",
      "random_counts.set_axis( 0, merged_counts.axes[0] )\n",
      "random_counts.set_axis( 1, merged_counts.axes[1] )\n",
      "\n",
      "tree_scan = []\n",
      "for n,treelevel in enumerate(np.linspace(0.0,0.99,50)) :\n",
      "    sigs, sigr, groups = [],[],[]\n",
      "    for m,group in enumerate(TreeOTU(treelevel)) :\n",
      "        #if n == 1000 : break\n",
      "        groups.append( group )\n",
      "        tt = tree_trait( group, merged_counts )\n",
      "        tr = tree_trait( group, random_counts )\n",
      "        sigs.append( phytools.phylosig( rabosky_trimmed, tt, method='K' )[0] )\n",
      "        sigr.append( phytools.phylosig( rabosky_trimmed, tr, method='K' )[0] )\n",
      "    tree_scan.append( { 'groups' : groups, 'sigs' : sigs, 'sigr' : sigr, 'treelevel' : treelevel } )\n",
      "    print treelevel, len(groups)\n",
      "    \n",
      "# this is dumb, but sadly necessary\n",
      "def newsum( x ) :\n",
      "    total = 0\n",
      "    for i in x :\n",
      "        if np.isfinite(i) : total += i\n",
      "    return total\n",
      "\n",
      "plot( map(lambda x: x['treelevel'], tree_scan), map( lambda x: newsum(x['sigs'])/len(x['groups']), tree_scan ))\n",
      "plot( map(lambda x: x['treelevel'], tree_scan), map( lambda x: newsum(x['sigr'])/len(x['groups']), tree_scan ))"
     ],
     "language": "python",
     "metadata": {},
     "outputs": [
      {
       "output_type": "stream",
       "stream": "stdout",
       "text": [
        "Populating the interactive namespace from numpy and matplotlib\n",
        "0.0"
       ]
      },
      {
       "output_type": "stream",
       "stream": "stdout",
       "text": [
        " 6896\n",
        "0.0202040816327"
       ]
      },
      {
       "output_type": "stream",
       "stream": "stdout",
       "text": [
        " 6250\n",
        "0.0404081632653"
       ]
      },
      {
       "output_type": "stream",
       "stream": "stdout",
       "text": [
        " 5361\n",
        "0.060612244898"
       ]
      },
      {
       "output_type": "stream",
       "stream": "stdout",
       "text": [
        " 4712\n",
        "0.0808163265306"
       ]
      },
      {
       "output_type": "stream",
       "stream": "stdout",
       "text": [
        " 4168\n",
        "0.101020408163"
       ]
      },
      {
       "output_type": "stream",
       "stream": "stdout",
       "text": [
        " 3659\n",
        "0.121224489796"
       ]
      },
      {
       "output_type": "stream",
       "stream": "stdout",
       "text": [
        " 3228\n",
        "0.141428571429"
       ]
      },
      {
       "output_type": "stream",
       "stream": "stdout",
       "text": [
        " 2898\n",
        "0.161632653061"
       ]
      },
      {
       "output_type": "stream",
       "stream": "stdout",
       "text": [
        " 2599\n",
        "0.181836734694"
       ]
      },
      {
       "output_type": "stream",
       "stream": "stdout",
       "text": [
        " 2311\n",
        "0.202040816327"
       ]
      },
      {
       "output_type": "stream",
       "stream": "stdout",
       "text": [
        " 2105\n",
        "0.222244897959"
       ]
      },
      {
       "output_type": "stream",
       "stream": "stdout",
       "text": [
        " 1889\n",
        "0.242448979592"
       ]
      },
      {
       "output_type": "stream",
       "stream": "stdout",
       "text": [
        " 1709\n",
        "0.262653061224"
       ]
      },
      {
       "output_type": "stream",
       "stream": "stdout",
       "text": [
        " 1575\n",
        "0.282857142857"
       ]
      },
      {
       "output_type": "stream",
       "stream": "stdout",
       "text": [
        " 1440\n",
        "0.30306122449"
       ]
      },
      {
       "output_type": "stream",
       "stream": "stdout",
       "text": [
        " 1324\n",
        "0.323265306122"
       ]
      },
      {
       "output_type": "stream",
       "stream": "stdout",
       "text": [
        " 1202\n",
        "0.343469387755"
       ]
      },
      {
       "output_type": "stream",
       "stream": "stdout",
       "text": [
        " 1081\n",
        "0.363673469388"
       ]
      },
      {
       "output_type": "stream",
       "stream": "stdout",
       "text": [
        " 981\n",
        "0.38387755102"
       ]
      },
      {
       "output_type": "stream",
       "stream": "stdout",
       "text": [
        " 900\n",
        "0.404081632653"
       ]
      },
      {
       "output_type": "stream",
       "stream": "stdout",
       "text": [
        " 820\n",
        "0.424285714286"
       ]
      },
      {
       "output_type": "stream",
       "stream": "stdout",
       "text": [
        " 758\n",
        "0.444489795918"
       ]
      },
      {
       "output_type": "stream",
       "stream": "stdout",
       "text": [
        " 695\n",
        "0.464693877551"
       ]
      },
      {
       "output_type": "stream",
       "stream": "stdout",
       "text": [
        " 627\n",
        "0.484897959184"
       ]
      },
      {
       "output_type": "stream",
       "stream": "stdout",
       "text": [
        " 569\n",
        "0.505102040816"
       ]
      },
      {
       "output_type": "stream",
       "stream": "stdout",
       "text": [
        " 509\n",
        "0.525306122449"
       ]
      },
      {
       "output_type": "stream",
       "stream": "stdout",
       "text": [
        " 468\n",
        "0.545510204082"
       ]
      },
      {
       "output_type": "stream",
       "stream": "stdout",
       "text": [
        " 424\n",
        "0.565714285714"
       ]
      },
      {
       "output_type": "stream",
       "stream": "stdout",
       "text": [
        " 383\n",
        "0.585918367347"
       ]
      },
      {
       "output_type": "stream",
       "stream": "stdout",
       "text": [
        " 348\n",
        "0.60612244898"
       ]
      },
      {
       "output_type": "stream",
       "stream": "stdout",
       "text": [
        " 299\n",
        "0.626326530612"
       ]
      },
      {
       "output_type": "stream",
       "stream": "stdout",
       "text": [
        " 268\n",
        "0.646530612245"
       ]
      },
      {
       "output_type": "stream",
       "stream": "stdout",
       "text": [
        " 241\n",
        "0.666734693878"
       ]
      },
      {
       "output_type": "stream",
       "stream": "stdout",
       "text": [
        " 212\n",
        "0.68693877551"
       ]
      },
      {
       "output_type": "stream",
       "stream": "stdout",
       "text": [
        " 190\n",
        "0.707142857143"
       ]
      },
      {
       "output_type": "stream",
       "stream": "stdout",
       "text": [
        " 168\n",
        "0.727346938776"
       ]
      },
      {
       "output_type": "stream",
       "stream": "stdout",
       "text": [
        " 150\n",
        "0.747551020408"
       ]
      },
      {
       "output_type": "stream",
       "stream": "stdout",
       "text": [
        " 127\n",
        "0.767755102041"
       ]
      },
      {
       "output_type": "stream",
       "stream": "stdout",
       "text": [
        " 115\n",
        "0.787959183673"
       ]
      },
      {
       "output_type": "stream",
       "stream": "stdout",
       "text": [
        " 100\n",
        "0.808163265306"
       ]
      },
      {
       "output_type": "stream",
       "stream": "stdout",
       "text": [
        " 90\n",
        "0.828367346939"
       ]
      },
      {
       "output_type": "stream",
       "stream": "stdout",
       "text": [
        " 76\n",
        "0.848571428571"
       ]
      },
      {
       "output_type": "stream",
       "stream": "stdout",
       "text": [
        " 62\n",
        "0.868775510204"
       ]
      },
      {
       "output_type": "stream",
       "stream": "stdout",
       "text": [
        " 56\n",
        "0.888979591837"
       ]
      },
      {
       "output_type": "stream",
       "stream": "stdout",
       "text": [
        " 49\n",
        "0.909183673469"
       ]
      },
      {
       "output_type": "stream",
       "stream": "stdout",
       "text": [
        " 43\n",
        "0.929387755102"
       ]
      },
      {
       "output_type": "stream",
       "stream": "stdout",
       "text": [
        " 33\n",
        "0.949591836735"
       ]
      },
      {
       "output_type": "stream",
       "stream": "stdout",
       "text": [
        " 26\n",
        "0.969795918367"
       ]
      },
      {
       "output_type": "stream",
       "stream": "stdout",
       "text": [
        " 19\n",
        "0.99"
       ]
      },
      {
       "output_type": "stream",
       "stream": "stdout",
       "text": [
        " 12\n"
       ]
      },
      {
       "metadata": {},
       "output_type": "pyout",
       "prompt_number": 139,
       "text": [
        "[<matplotlib.lines.Line2D at 0x7faf2d442510>]"
       ]
      },
      {
       "metadata": {},
       "output_type": "display_data",
       "png": "[encoded data removed]",
       "text": [
        "<matplotlib.figure.Figure at 0x7faf2db84a90>"
       ]
      }
     ],
     "prompt_number": 139
    },
    {
     "cell_type": "code",
     "collapsed": false,
     "input": [
      "figure(figsize=(10, 4))\n",
      "\n",
      "psignal_data = np.array( map( lambda x: newsum(x['sigs'])/len(x['groups']), tree_scan ) )\n",
      "psignal_rand = np.array( map( lambda x: newsum(x['sigr'])/len(x['groups']), tree_scan ) )\n",
      "treelevels   = np.array( map( lambda x: x['treelevel'], tree_scan ) )\n",
      "subplot(121)\n",
      "title('Net phylogenetic signal')\n",
      "plot( 1 - treelevels, psignal_data, label='real OTUs', color='black')\n",
      "plot( 1 - treelevels, psignal_rand, label='random OTUs', linestyle=':', color='black')\n",
      "ylabel('K')\n",
      "xlabel('Distance from root (normalized)')\n",
      "legend(loc=3)\n",
      "subplot(122)\n",
      "title('Relative net phylogenetic signal')\n",
      "plot( 1 - treelevels, psignal_data - psignal_rand, color='black' )\n",
      "ylabel('K')\n",
      "xlabel('Distance from root (normalized)')\n",
      "tight_layout()"
     ],
     "language": "python",
     "metadata": {},
     "outputs": [
      {
       "metadata": {},
       "output_type": "display_data",
       "png": "[encoded data removed]",
       "text": [
        "<matplotlib.figure.Figure at 0x7faf1e81ea90>"
       ]
      }
     ],
     "prompt_number": 168
    },
    {
     "cell_type": "code",
     "collapsed": false,
     "input": [],
     "language": "python",
     "metadata": {},
     "outputs": []
    }
   ],
   "metadata": {}
  }
 ]
}